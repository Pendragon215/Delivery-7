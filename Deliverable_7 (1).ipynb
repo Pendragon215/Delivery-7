{
  "nbformat": 4,
  "nbformat_minor": 0,
  "metadata": {
    "colab": {
      "provenance": [],
      "collapsed_sections": []
    },
    "kernelspec": {
      "name": "python3",
      "display_name": "Python 3"
    },
    "language_info": {
      "name": "python"
    }
  },
  "cells": [
    {
      "cell_type": "code",
      "execution_count": 18,
      "metadata": {
        "id": "VCixE36x98AI"
      },
      "outputs": [],
      "source": [
        "import numpy as np\n",
        "\n",
        "\n",
        "\n",
        "  "
      ]
    },
    {
      "cell_type": "code",
      "source": [
        "def method_1(input):\n",
        "  out = []\n",
        "  for i in range(input):\n",
        "    out.append(np.random.randint(10, 50))\n",
        "  return out\n",
        "\n",
        "def method_2(list1):\n",
        "  sum = 0\n",
        "  for i in list1:\n",
        "    sum = sum + i\n",
        "  return sum\n",
        "  \n",
        "  "
      ],
      "metadata": {
        "id": "b5BqDV51_qr0"
      },
      "execution_count": 19,
      "outputs": []
    },
    {
      "cell_type": "code",
      "source": [
        "while True:\n",
        "  print(\"Input:\")\n",
        "  user_input = int(input(\"Enter a value between 5 and 15: \"))\n",
        "  if (user_input >=5) and (user_input<=15): break\n",
        "\n",
        "print(\"User's entry is: {}\".format(method_1(user_input)))\n",
        "print(\"Output:\")\n",
        "print(\"The result is: {}\".format(method_2(method_1(user_input))))"
      ],
      "metadata": {
        "colab": {
          "base_uri": "https://localhost:8080/"
        },
        "id": "CSSsL_Cx-sPa",
        "outputId": "e52d954c-c7d1-436d-dafc-502861310198"
      },
      "execution_count": 28,
      "outputs": [
        {
          "output_type": "stream",
          "name": "stdout",
          "text": [
            "Input:\n",
            "Enter a value between 5 and 15: 15\n",
            "User's entry is: [36, 33, 42, 47, 21, 44, 13, 23, 30, 39, 27, 16, 33, 48, 14]\n",
            "Output:\n",
            "The result is: 386\n"
          ]
        }
      ]
    }
  ]
}